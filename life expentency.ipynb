{
 "cells": [
  {
   "cell_type": "markdown",
   "metadata": {},
   "source": [
    "### About the dataset (Life Expectancy Data)\n",
    "\n",
    "The dataset contains the health data of 2938 individuals useful for predicting the life expentency of the individuals. The features are related to economical factors, immunity realted factors, social factors and so on.\n",
    "\n",
    "Attribute Information:\n",
    "\n",
    "**Country:** Country of the recorded data\n",
    "\n",
    "**Year:** Year of the recorded data\n",
    "\n",
    "**Status:** Status of the country\n",
    "\n",
    "**Life expectancy:** Life expectancy in age (target/dependent variable)\n",
    "\n",
    "**Adult mortality:** Rate of adult mortality\n",
    "\n",
    "**Infant deaths:** Number of Infant Deaths per 1000 population\n",
    "\n",
    "**Alcohol:** Alcohol consumption (in litres of pure alcohol)\n",
    "\n",
    "**Percentage expenditure:** Expenditure on health as a percentage of GDP\n",
    "\n",
    "**Hepatitis B:** Hepatitis B immunization coverage among 1-year-olds (%)\n",
    "\n",
    "**Measles:** Number of reported cases per 1000 population\n",
    "\n",
    "**BMI:** Average BMI of entire population\n",
    "\n",
    "**Under-five deaths:** Number of under-five deaths per 1000 population\n",
    "\n",
    "**Polio:** Polio immunization coverage among 1-year-olds (%)\n",
    "\n",
    "**Total expenditure:** Government expenditure on health as a percentage of total government expenditure (%)\n",
    "\n",
    "**Diphtheria:** DTP3 immunization coverage among 1-year-olds (%)\n",
    "\n",
    "**HIV/AIDS:** Deaths per 1000 live births HIV/AIDS (0-4 years)\n",
    "\n",
    "**GDP:** Gross Domestic Product per capita (in USD)\n",
    "\n",
    "**Population:** Population of the country\n",
    "\n",
    "**Thinness 1-19 years:** Prevalence of thinness for age 1 to 19 (%)\n",
    "\n",
    "**Thinness 5-9 years:** Prevalence of thinness for age 5 to 9 (%)\n",
    "\n",
    "**Income composition of resources:** Human Development Index in terms of income composition of resources\n",
    "\n",
    "**Schooling:** Number of years of Schooling"
   ]
  },
  {
   "cell_type": "markdown",
   "metadata": {},
   "source": [
    "**Import the required libraries**"
   ]
  },
  {
   "cell_type": "code",
   "execution_count": 1,
   "metadata": {},
   "outputs": [],
   "source": [
    "# type your code here\n",
    "import numpy as np\n",
    "import pandas as pd\n",
    "import matplotlib.pyplot as plt\n",
    "import seaborn as sns\n",
    "from scipy.stats import zscore\n",
    "from pandas import DataFrame, Series\n",
    "from sklearn.preprocessing import LabelEncoder"
   ]
  },
  {
   "cell_type": "markdown",
   "metadata": {},
   "source": [
    "#### Load the life expectancy dataset and print the first five observations"
   ]
  },
  {
   "cell_type": "code",
   "execution_count": 2,
   "metadata": {},
   "outputs": [
    {
     "data": {
      "text/html": [
       "<div>\n",
       "<style scoped>\n",
       "    .dataframe tbody tr th:only-of-type {\n",
       "        vertical-align: middle;\n",
       "    }\n",
       "\n",
       "    .dataframe tbody tr th {\n",
       "        vertical-align: top;\n",
       "    }\n",
       "\n",
       "    .dataframe thead th {\n",
       "        text-align: right;\n",
       "    }\n",
       "</style>\n",
       "<table border=\"1\" class=\"dataframe\">\n",
       "  <thead>\n",
       "    <tr style=\"text-align: right;\">\n",
       "      <th></th>\n",
       "      <th>Country</th>\n",
       "      <th>Year</th>\n",
       "      <th>Status</th>\n",
       "      <th>Life expectancy</th>\n",
       "      <th>Adult mortality</th>\n",
       "      <th>Infant deaths</th>\n",
       "      <th>Alcohol</th>\n",
       "      <th>Percentage expenditure</th>\n",
       "      <th>Hepatitis B</th>\n",
       "      <th>Measles</th>\n",
       "      <th>...</th>\n",
       "      <th>Polio</th>\n",
       "      <th>Total expenditure</th>\n",
       "      <th>Diphtheria</th>\n",
       "      <th>HIV/AIDS</th>\n",
       "      <th>GDP</th>\n",
       "      <th>Population</th>\n",
       "      <th>Thinness  1-19 years</th>\n",
       "      <th>Thinness 5-9 years</th>\n",
       "      <th>Income composition of resources</th>\n",
       "      <th>Schooling</th>\n",
       "    </tr>\n",
       "  </thead>\n",
       "  <tbody>\n",
       "    <tr>\n",
       "      <td>0</td>\n",
       "      <td>Afghanistan</td>\n",
       "      <td>2015</td>\n",
       "      <td>Developing</td>\n",
       "      <td>65.0</td>\n",
       "      <td>263.0</td>\n",
       "      <td>62</td>\n",
       "      <td>0.01</td>\n",
       "      <td>71.279624</td>\n",
       "      <td>65.0</td>\n",
       "      <td>1154</td>\n",
       "      <td>...</td>\n",
       "      <td>6.0</td>\n",
       "      <td>8.16</td>\n",
       "      <td>65.0</td>\n",
       "      <td>0.1</td>\n",
       "      <td>584.259210</td>\n",
       "      <td>33736494</td>\n",
       "      <td>17.2</td>\n",
       "      <td>17.3</td>\n",
       "      <td>0.479</td>\n",
       "      <td>10.1</td>\n",
       "    </tr>\n",
       "    <tr>\n",
       "      <td>1</td>\n",
       "      <td>Afghanistan</td>\n",
       "      <td>2014</td>\n",
       "      <td>Developing</td>\n",
       "      <td>59.9</td>\n",
       "      <td>271.0</td>\n",
       "      <td>64</td>\n",
       "      <td>0.01</td>\n",
       "      <td>73.523582</td>\n",
       "      <td>62.0</td>\n",
       "      <td>492</td>\n",
       "      <td>...</td>\n",
       "      <td>58.0</td>\n",
       "      <td>8.18</td>\n",
       "      <td>62.0</td>\n",
       "      <td>0.1</td>\n",
       "      <td>612.696514</td>\n",
       "      <td>327582</td>\n",
       "      <td>17.5</td>\n",
       "      <td>17.5</td>\n",
       "      <td>0.476</td>\n",
       "      <td>10.0</td>\n",
       "    </tr>\n",
       "    <tr>\n",
       "      <td>2</td>\n",
       "      <td>Afghanistan</td>\n",
       "      <td>2013</td>\n",
       "      <td>Developing</td>\n",
       "      <td>59.9</td>\n",
       "      <td>268.0</td>\n",
       "      <td>66</td>\n",
       "      <td>0.01</td>\n",
       "      <td>73.219243</td>\n",
       "      <td>64.0</td>\n",
       "      <td>430</td>\n",
       "      <td>...</td>\n",
       "      <td>62.0</td>\n",
       "      <td>8.13</td>\n",
       "      <td>64.0</td>\n",
       "      <td>0.1</td>\n",
       "      <td>631.744976</td>\n",
       "      <td>31731688</td>\n",
       "      <td>17.7</td>\n",
       "      <td>17.7</td>\n",
       "      <td>0.470</td>\n",
       "      <td>9.9</td>\n",
       "    </tr>\n",
       "    <tr>\n",
       "      <td>3</td>\n",
       "      <td>Afghanistan</td>\n",
       "      <td>2012</td>\n",
       "      <td>Developing</td>\n",
       "      <td>59.5</td>\n",
       "      <td>272.0</td>\n",
       "      <td>69</td>\n",
       "      <td>0.01</td>\n",
       "      <td>78.184215</td>\n",
       "      <td>67.0</td>\n",
       "      <td>2787</td>\n",
       "      <td>...</td>\n",
       "      <td>67.0</td>\n",
       "      <td>8.52</td>\n",
       "      <td>67.0</td>\n",
       "      <td>0.1</td>\n",
       "      <td>669.959000</td>\n",
       "      <td>3696958</td>\n",
       "      <td>17.9</td>\n",
       "      <td>18.0</td>\n",
       "      <td>0.463</td>\n",
       "      <td>9.8</td>\n",
       "    </tr>\n",
       "    <tr>\n",
       "      <td>4</td>\n",
       "      <td>Afghanistan</td>\n",
       "      <td>2011</td>\n",
       "      <td>Developing</td>\n",
       "      <td>59.2</td>\n",
       "      <td>275.0</td>\n",
       "      <td>71</td>\n",
       "      <td>0.01</td>\n",
       "      <td>7.097109</td>\n",
       "      <td>68.0</td>\n",
       "      <td>3013</td>\n",
       "      <td>...</td>\n",
       "      <td>68.0</td>\n",
       "      <td>7.87</td>\n",
       "      <td>68.0</td>\n",
       "      <td>0.1</td>\n",
       "      <td>63.537231</td>\n",
       "      <td>2978599</td>\n",
       "      <td>18.2</td>\n",
       "      <td>18.2</td>\n",
       "      <td>0.454</td>\n",
       "      <td>9.5</td>\n",
       "    </tr>\n",
       "  </tbody>\n",
       "</table>\n",
       "<p>5 rows × 22 columns</p>\n",
       "</div>"
      ],
      "text/plain": [
       "       Country  Year      Status  Life expectancy  Adult mortality  \\\n",
       "0  Afghanistan  2015  Developing             65.0            263.0   \n",
       "1  Afghanistan  2014  Developing             59.9            271.0   \n",
       "2  Afghanistan  2013  Developing             59.9            268.0   \n",
       "3  Afghanistan  2012  Developing             59.5            272.0   \n",
       "4  Afghanistan  2011  Developing             59.2            275.0   \n",
       "\n",
       "   Infant deaths  Alcohol  Percentage expenditure  Hepatitis B  Measles  ...  \\\n",
       "0             62     0.01               71.279624         65.0     1154  ...   \n",
       "1             64     0.01               73.523582         62.0      492  ...   \n",
       "2             66     0.01               73.219243         64.0      430  ...   \n",
       "3             69     0.01               78.184215         67.0     2787  ...   \n",
       "4             71     0.01                7.097109         68.0     3013  ...   \n",
       "\n",
       "   Polio  Total expenditure  Diphtheria  HIV/AIDS         GDP  Population  \\\n",
       "0    6.0               8.16        65.0       0.1  584.259210    33736494   \n",
       "1   58.0               8.18        62.0       0.1  612.696514      327582   \n",
       "2   62.0               8.13        64.0       0.1  631.744976    31731688   \n",
       "3   67.0               8.52        67.0       0.1  669.959000     3696958   \n",
       "4   68.0               7.87        68.0       0.1   63.537231     2978599   \n",
       "\n",
       "   Thinness  1-19 years Thinness 5-9 years  Income composition of resources  \\\n",
       "0                  17.2               17.3                            0.479   \n",
       "1                  17.5               17.5                            0.476   \n",
       "2                  17.7               17.7                            0.470   \n",
       "3                  17.9               18.0                            0.463   \n",
       "4                  18.2               18.2                            0.454   \n",
       "\n",
       "   Schooling  \n",
       "0       10.1  \n",
       "1       10.0  \n",
       "2        9.9  \n",
       "3        9.8  \n",
       "4        9.5  \n",
       "\n",
       "[5 rows x 22 columns]"
      ]
     },
     "execution_count": 2,
     "metadata": {},
     "output_type": "execute_result"
    }
   ],
   "source": [
    "# type your code here\n",
    "df=pd.read_csv(\"Life+Expectancy+Data.csv\")\n",
    "df.head(5)"
   ]
  },
  {
   "cell_type": "code",
   "execution_count": 3,
   "metadata": {},
   "outputs": [
    {
     "data": {
      "text/plain": [
       "(2938, 22)"
      ]
     },
     "execution_count": 3,
     "metadata": {},
     "output_type": "execute_result"
    }
   ],
   "source": [
    "df.shape"
   ]
  },
  {
   "cell_type": "markdown",
   "metadata": {
    "collapsed": true
   },
   "source": [
    "<table align=\"left\">\n",
    "    <tr>\n",
    "        <td width=\"6%\">\n",
    "            <img src=\"question_icon.png\">\n",
    "        </td>\n",
    "        <td>\n",
    "            <div align=\"left\", style=\"font-size:120%\">\n",
    "                <font color=\"#21618C\">\n",
    "                    <b>1. Check the data type of each variable and if any variable is wrongly identified, do the needful</b>\n",
    "                </font>\n",
    "            </div>\n",
    "        </td>\n",
    "    </tr>\n",
    "</table>"
   ]
  },
  {
   "cell_type": "code",
   "execution_count": 4,
   "metadata": {},
   "outputs": [
    {
     "name": "stdout",
     "output_type": "stream",
     "text": [
      "<class 'pandas.core.frame.DataFrame'>\n",
      "RangeIndex: 2938 entries, 0 to 2937\n",
      "Data columns (total 22 columns):\n",
      "Country                            2938 non-null object\n",
      "Year                               2938 non-null int64\n",
      "Status                             2922 non-null object\n",
      "Life expectancy                    2928 non-null float64\n",
      "Adult mortality                    2928 non-null float64\n",
      "Infant deaths                      2938 non-null int64\n",
      "Alcohol                            2744 non-null float64\n",
      "Percentage expenditure             2938 non-null float64\n",
      "Hepatitis B                        2385 non-null float64\n",
      "Measles                            2938 non-null int64\n",
      "BMI                                2904 non-null float64\n",
      "Under-five deaths                  2938 non-null int64\n",
      "Polio                              2919 non-null float64\n",
      "Total expenditure                  2712 non-null float64\n",
      "Diphtheria                         2919 non-null float64\n",
      "HIV/AIDS                           2938 non-null float64\n",
      "GDP                                2490 non-null float64\n",
      "Population                         2938 non-null object\n",
      "Thinness  1-19 years               2904 non-null float64\n",
      "Thinness 5-9 years                 2904 non-null float64\n",
      "Income composition of resources    2771 non-null float64\n",
      "Schooling                          2775 non-null float64\n",
      "dtypes: float64(15), int64(4), object(3)\n",
      "memory usage: 505.1+ KB\n"
     ]
    }
   ],
   "source": [
    "# type your code here\n",
    "df.info()\n"
   ]
  },
  {
   "cell_type": "markdown",
   "metadata": {
    "collapsed": true
   },
   "source": [
    "<table align=\"left\">\n",
    "    <tr>\n",
    "        <td width=\"6%\">\n",
    "            <img src=\"question_icon.png\">\n",
    "        </td>\n",
    "        <td>\n",
    "            <div align=\"left\", style=\"font-size:120%\">\n",
    "                <font color=\"#21618C\">\n",
    "                    <b>2. Create a DataFrame containing the count and percentage of missing entries in each variable</b>\n",
    "                </font>\n",
    "            </div>\n",
    "        </td>\n",
    "    </tr>\n",
    "</table>"
   ]
  },
  {
   "cell_type": "code",
   "execution_count": 5,
   "metadata": {},
   "outputs": [
    {
     "name": "stdout",
     "output_type": "stream",
     "text": [
      "count of missing values :  Status                              16\n",
      "Life expectancy                     10\n",
      "Adult mortality                     10\n",
      "Alcohol                            194\n",
      "Hepatitis B                        553\n",
      "BMI                                 34\n",
      "Polio                               19\n",
      "Total expenditure                  226\n",
      "Diphtheria                          19\n",
      "GDP                                448\n",
      "Thinness  1-19 years                34\n",
      "Thinness 5-9 years                  34\n",
      "Income composition of resources    167\n",
      "Schooling                          163\n",
      "dtype: int64\n",
      "percentage of missing values :  Status                              0.544588\n",
      "Life expectancy                     0.340368\n",
      "Adult mortality                     0.340368\n",
      "Alcohol                             6.603131\n",
      "Hepatitis B                        18.822328\n",
      "BMI                                 1.157250\n",
      "Polio                               0.646698\n",
      "Total expenditure                   7.692308\n",
      "Diphtheria                          0.646698\n",
      "GDP                                15.248468\n",
      "Thinness  1-19 years                1.157250\n",
      "Thinness 5-9 years                  1.157250\n",
      "Income composition of resources     5.684139\n",
      "Schooling                           5.547992\n",
      "dtype: float64\n"
     ]
    }
   ],
   "source": [
    "# type your code here\n",
    "a=df.isnull().sum()\n",
    "print(\"count of missing values : \",a[a!=0])\n",
    "b=df.isnull().sum()*100/len(df)\n",
    "print(\"percentage of missing values : \",b[b!=0])"
   ]
  },
  {
   "cell_type": "markdown",
   "metadata": {
    "collapsed": true
   },
   "source": [
    "<table align=\"left\">\n",
    "    <tr>\n",
    "        <td width=\"6%\">\n",
    "            <img src=\"question_icon.png\">\n",
    "        </td>\n",
    "        <td>\n",
    "            <div align=\"left\", style=\"font-size:120%\">\n",
    "                <font color=\"#21618C\">\n",
    "                    <b>3a. Are there any extreme values present in the government's total expenditure on health?\n",
    " </b>\n",
    "                </font>\n",
    "            </div>\n",
    "        </td>\n",
    "    </tr>\n",
    "</table>"
   ]
  },
  {
   "cell_type": "code",
   "execution_count": 6,
   "metadata": {},
   "outputs": [
    {
     "data": {
      "image/png": "[encoded data removed]",
      "text/plain": [
       "<Figure size 432x288 with 1 Axes>"
      ]
     },
     "metadata": {
      "needs_background": "light"
     },
     "output_type": "display_data"
    }
   ],
   "source": [
    "# type your code here\n",
    "sns.boxplot(df['Total expenditure'])\n",
    "plt.show()"
   ]
  },
  {
   "cell_type": "markdown",
   "metadata": {
    "collapsed": true
   },
   "source": [
    "<table align=\"left\">\n",
    "    <tr>\n",
    "        <td width=\"6%\">\n",
    "            <img src=\"question_icon.png\">\n",
    "        </td>\n",
    "        <td>\n",
    "            <div align=\"left\", style=\"font-size:120%\">\n",
    "                <font color=\"#21618C\">\n",
    "                    <b>3b. Remove the outliers present in 'Total expenditure' using the quartiles of the variable\t\n",
    "</b>\n",
    "                </font>\n",
    "            </div>\n",
    "        </td>\n",
    "    </tr>\n",
    "</table>"
   ]
  },
  {
   "cell_type": "code",
   "execution_count": 7,
   "metadata": {},
   "outputs": [
    {
     "name": "stdout",
     "output_type": "stream",
     "text": [
      "Data after removing outliers : (2680, 22)\n",
      "Data before outliers : (2938, 22)\n"
     ]
    }
   ],
   "source": [
    "# type your code here\n",
    "#llc=q1-(1.5*IQR)\n",
    "#ulc=q3+(1.5*IQR)\n",
    "q1=df['Total expenditure'].quantile(0.25)\n",
    "q2=df['Total expenditure'].quantile(0.5)\n",
    "q3=df['Total expenditure'].quantile(0.75)\n",
    "IQR=q3-q1\n",
    "llc=q1-(1.5*IQR)\n",
    "ulc=q3+(1.5*IQR)\n",
    "df[df['Total expenditure']>ulc].shape #32 outliers are present in total_expenditure\n",
    "# Data after removing Outliers\n",
    "df1=df[df['Total expenditure']<ulc]\n",
    "print(\"Data after removing outliers :\",df1.shape)\n",
    "print(\"Data before outliers :\",df.shape)"
   ]
  },
  {
   "cell_type": "markdown",
   "metadata": {
    "collapsed": true
   },
   "source": [
    "<table align=\"left\">\n",
    "    <tr>\n",
    "        <td width=\"6%\">\n",
    "            <img src=\"question_icon.png\">\n",
    "        </td>\n",
    "        <td>\n",
    "            <div align=\"left\", style=\"font-size:120%\">\n",
    "                <font color=\"#21618C\">\n",
    "                    <b>4. Split the data such that 'X' will contain all the indepentdent variables and 'y' will contain the target variable</b>\n",
    "                </font>\n",
    "            </div>\n",
    "        </td>\n",
    "    </tr>\n",
    "</table>"
   ]
  },
  {
   "cell_type": "markdown",
   "metadata": {},
   "source": [
    "**Hint:** 'Life expectancy' is the target variable depending on the remaining variables."
   ]
  },
  {
   "cell_type": "code",
   "execution_count": 8,
   "metadata": {},
   "outputs": [],
   "source": [
    "# type your code here\n",
    "from sklearn.model_selection import train_test_split"
   ]
  },
  {
   "cell_type": "markdown",
   "metadata": {
    "collapsed": true
   },
   "source": [
    "<table align=\"left\">\n",
    "    <tr>\n",
    "        <td width=\"6%\">\n",
    "            <img src=\"question_icon.png\">\n",
    "        </td>\n",
    "        <td>\n",
    "            <div align=\"left\", style=\"font-size:120%\">\n",
    "                <font color=\"#21618C\">\n",
    "                    <b>5. Split the independent variables into two sets with the proportion of 70:30</b>\n",
    "                </font>\n",
    "            </div>\n",
    "        </td>\n",
    "    </tr>\n",
    "</table>"
   ]
  },
  {
   "cell_type": "code",
   "execution_count": 9,
   "metadata": {},
   "outputs": [],
   "source": [
    "# type your code here\n",
    "x=df.drop(['Life expectancy'],axis=1)"
   ]
  },
  {
   "cell_type": "code",
   "execution_count": 10,
   "metadata": {},
   "outputs": [],
   "source": [
    "y=df['Life expectancy']"
   ]
  },
  {
   "cell_type": "code",
   "execution_count": 11,
   "metadata": {},
   "outputs": [],
   "source": [
    "x_train,x_test,y_train,y_test=train_test_split(x,y,train_size=0.7,random_state=0)"
   ]
  },
  {
   "cell_type": "markdown",
   "metadata": {
    "collapsed": true
   },
   "source": [
    "<table align=\"left\">\n",
    "    <tr>\n",
    "        <td width=\"6%\">\n",
    "            <img src=\"question_icon.png\">\n",
    "        </td>\n",
    "        <td>\n",
    "            <div align=\"left\", style=\"font-size:120%\">\n",
    "                <font color=\"#21618C\">\n",
    "                    <b>6. How would you treat the missing values in the variable 'GDP'?</b>\n",
    "                </font>\n",
    "            </div>\n",
    "        </td>\n",
    "    </tr>\n",
    "</table>"
   ]
  },
  {
   "cell_type": "code",
   "execution_count": 12,
   "metadata": {},
   "outputs": [
    {
     "data": {
      "text/plain": [
       "0"
      ]
     },
     "execution_count": 12,
     "metadata": {},
     "output_type": "execute_result"
    }
   ],
   "source": [
    "# type your code here\n",
    "df['GDP'].isnull().sum() #448 missing values\n",
    "df['GDP']=df['GDP'].fillna(df['GDP'].mean())\n",
    "#checking missing values after treatment\n",
    "df['GDP'].isnull().sum()"
   ]
  },
  {
   "cell_type": "markdown",
   "metadata": {
    "collapsed": true
   },
   "source": [
    "<table align=\"left\">\n",
    "    <tr>\n",
    "        <td width=\"6%\">\n",
    "            <img src=\"question_icon.png\">\n",
    "        </td>\n",
    "        <td>\n",
    "            <div align=\"left\", style=\"font-size:120%\">\n",
    "                <font color=\"#21618C\">\n",
    "                    <b>7.There are 16 observations for which the status of the corresponding country is unknown, impute this status with an appropriate values</b>\n",
    "                </font>\n",
    "            </div>\n",
    "        </td>\n",
    "    </tr>\n",
    "</table>"
   ]
  },
  {
   "cell_type": "code",
   "execution_count": 13,
   "metadata": {},
   "outputs": [
    {
     "data": {
      "text/plain": [
       "array(['Developing', nan, 'Developed'], dtype=object)"
      ]
     },
     "execution_count": 13,
     "metadata": {},
     "output_type": "execute_result"
    }
   ],
   "source": [
    "df['Status'].unique()"
   ]
  },
  {
   "cell_type": "code",
   "execution_count": 15,
   "metadata": {},
   "outputs": [],
   "source": [
    "# type your code here\n",
    "df['Status']=df['Status'].fillna(method='pad')"
   ]
  },
  {
   "cell_type": "code",
   "execution_count": 16,
   "metadata": {},
   "outputs": [
    {
     "data": {
      "text/plain": [
       "0"
      ]
     },
     "execution_count": 16,
     "metadata": {},
     "output_type": "execute_result"
    }
   ],
   "source": [
    "df['Status'].isnull().sum()"
   ]
  },
  {
   "cell_type": "markdown",
   "metadata": {
    "collapsed": true
   },
   "source": [
    "<table align=\"left\">\n",
    "    <tr>\n",
    "        <td width=\"6%\">\n",
    "            <img src=\"question_icon.png\">\n",
    "        </td>\n",
    "        <td>\n",
    "            <div align=\"left\", style=\"font-size:120%\">\n",
    "                <font color=\"#21618C\">\n",
    "                    <b>8. Define a function to find the extreme values in alcohol consumption\n",
    "</b>\n",
    "                </font>\n",
    "            </div>\n",
    "        </td>\n",
    "    </tr>\n",
    "</table>"
   ]
  },
  {
   "cell_type": "code",
   "execution_count": 18,
   "metadata": {},
   "outputs": [
    {
     "data": {
      "image/png": "[encoded data removed]",
      "text/plain": [
       "<Figure size 432x288 with 1 Axes>"
      ]
     },
     "metadata": {
      "needs_background": "light"
     },
     "output_type": "display_data"
    }
   ],
   "source": [
    "sns.boxplot(df['Alcohol'])\n",
    "plt.show()"
   ]
  },
  {
   "cell_type": "code",
   "execution_count": 22,
   "metadata": {},
   "outputs": [
    {
     "name": "stdout",
     "output_type": "stream",
     "text": [
      "ULC : (0, 22)\n",
      "LLC : (0, 22)\n"
     ]
    }
   ],
   "source": [
    "# type your code here\n",
    "#llc=q1-(1.5*IQR)\n",
    "#ulc=q3+(1.5*IQR)\n",
    "q1=df['Alcohol'].quantile(0.25)\n",
    "q2=df['Alcohol'].quantile(0.5)\n",
    "q3=df['Alcohol'].quantile(0.75)\n",
    "IQR=q3-q1\n",
    "llc=q1-(1.5*IQR)\n",
    "ulc=q3+(1.5*IQR)\n",
    "print(\"ULC :\",df[df['Alcohol']>ulc].shape) #0 outliers are present in total_expenditure\n",
    "print(\"LLC :\",df[df['Alcohol']<llc].shape) #0 outliers"
   ]
  },
  {
   "cell_type": "markdown",
   "metadata": {
    "collapsed": true
   },
   "source": [
    "<table align=\"left\">\n",
    "    <tr>\n",
    "        <td width=\"6%\">\n",
    "            <img src=\"question_icon.png\">\n",
    "        </td>\n",
    "        <td>\n",
    "            <div align=\"left\", style=\"font-size:120%\">\n",
    "                <font color=\"#21618C\">\n",
    "                    <b>9. Create a column 'Life_expectancy_level' such that it will contain three levels (High, Medium, Low) based on the life expectancy </b>\n",
    "                </font>\n",
    "            </div>\n",
    "        </td>\n",
    "    </tr>\n",
    "</table>"
   ]
  },
  {
   "cell_type": "code",
   "execution_count": 43,
   "metadata": {},
   "outputs": [],
   "source": [
    "L=[]\n",
    "for i in df['Life expectancy']:\n",
    "    if i<q1:\n",
    "        L.append('Lower')\n",
    "    elif i>q3:\n",
    "        L.append('High')\n",
    "    else:\n",
    "        L.append('Medium')"
   ]
  },
  {
   "cell_type": "code",
   "execution_count": 44,
   "metadata": {},
   "outputs": [
    {
     "data": {
      "text/plain": [
       "2938"
      ]
     },
     "execution_count": 44,
     "metadata": {},
     "output_type": "execute_result"
    }
   ],
   "source": [
    "len(L)"
   ]
  },
  {
   "cell_type": "code",
   "execution_count": 46,
   "metadata": {},
   "outputs": [
    {
     "data": {
      "text/plain": [
       "High      2928\n",
       "Medium      10\n",
       "Name: Life_expectancy_level, dtype: int64"
      ]
     },
     "execution_count": 46,
     "metadata": {},
     "output_type": "execute_result"
    }
   ],
   "source": [
    "df['Life_expectancy_level']=L.copy()\n",
    "df['Life_expectancy_level'].value_counts()   #there are no lower levels in data(<q1)"
   ]
  },
  {
   "cell_type": "markdown",
   "metadata": {
    "collapsed": true
   },
   "source": [
    "<table align=\"left\">\n",
    "    <tr>\n",
    "        <td width=\"6%\">\n",
    "            <img src=\"question_icon.png\">\n",
    "        </td>\n",
    "        <td>\n",
    "            <div align=\"left\", style=\"font-size:120%\">\n",
    "                <font color=\"#21618C\">\n",
    "                    <b>10. Check how life expectancy has changed over the years in China</b>\n",
    "                </font>\n",
    "            </div>\n",
    "        </td>\n",
    "    </tr>\n",
    "</table>"
   ]
  },
  {
   "cell_type": "code",
   "execution_count": 23,
   "metadata": {},
   "outputs": [
    {
     "data": {
      "image/png": "[encoded data removed]",
      "text/plain": [
       "<Figure size 432x288 with 1 Axes>"
      ]
     },
     "metadata": {
      "needs_background": "light"
     },
     "output_type": "display_data"
    }
   ],
   "source": [
    "# type your code here\n",
    "df.groupby(['Country','Year']).mean()['Life expectancy']['China'].plot(kind='line')\n",
    "plt.ylabel('Life expectancy')\n",
    "plt.title(\" life expectancy changed over the years in China\",size=(16))\n",
    "plt.show()"
   ]
  },
  {
   "cell_type": "code",
   "execution_count": 24,
   "metadata": {
    "scrolled": true
   },
   "outputs": [
    {
     "data": {
      "text/plain": [
       "Year\n",
       "2000    71.7\n",
       "2001    72.2\n",
       "2002    72.7\n",
       "2003    73.1\n",
       "2004    73.5\n",
       "2005    73.9\n",
       "2006    74.2\n",
       "2007    74.4\n",
       "2008    74.5\n",
       "2009    74.9\n",
       "2010    75.0\n",
       "2011    75.2\n",
       "2012    75.4\n",
       "2013    75.6\n",
       "2014    75.8\n",
       "2015    76.1\n",
       "Name: Life expectancy, dtype: float64"
      ]
     },
     "execution_count": 24,
     "metadata": {},
     "output_type": "execute_result"
    }
   ],
   "source": [
    "df.groupby(['Country','Year']).mean()['Life expectancy']['China']"
   ]
  }
 ],
 "metadata": {
  "kernelspec": {
   "display_name": "Python 3",
   "language": "python",
   "name": "python3"
  },
  "language_info": {
   "codemirror_mode": {
    "name": "ipython",
    "version": 3
   },
   "file_extension": ".py",
   "mimetype": "text/x-python",
   "name": "python",
   "nbconvert_exporter": "python",
   "pygments_lexer": "ipython3",
   "version": "3.8.3"
  }
 },
 "nbformat": 4,
 "nbformat_minor": 2
}
